{
 "cells": [
  {
   "cell_type": "code",
   "execution_count": 39,
   "metadata": {},
   "outputs": [
    {
     "name": "stdout",
     "output_type": "stream",
     "text": [
      "{'Message-ID': '<2252971.1075852681795.JavaMail.evans@thyme>\\n', 'Date': 'Tue, 31 Jul 2001 05:56:08 -0700 (PDT)\\n', 'From': 'kevinscott@onlinemailbox.net\\n', 'To': 'kean.steve@enron.com, jeff.skilling@enron.com\\n', 'Subject': \"Davis' Energy Advisors Draw SEC Attention.htm\\n\", 'Mime-Version': '1.0\\n', 'Content-Type': 'text/plain; charset=us-ascii\\n', 'Content-Transfer-Encoding': 'quoted-printable\\n', 'X-From': 'Kevin Scott <kevinscott@onlinemailbox.net>@ENRON <IMCEANOTES-Kevin+20Scott+20+3Ckevinscott+40onlinemailbox+2Enet+3E+40ENRON@ENRON.com>\\n', 'X-To': 'Steve Kean <skean@enron.com>, Skilling, Jeff </O=ENRON/OU=NA/CN=RECIPIENTS/CN=JSKILLIN>\\n', 'X-cc': '', 'X-bcc': '', 'X-Folder': '\\\\JSKILLIN (Non-Privileged)\\\\Inbox\\n', 'X-Origin': 'Dasovich-J\\n', 'X-FileName': 'JDASOVIC (Non-Privileged).pst\\n'}\n"
     ]
    }
   ],
   "source": [
    "import csv\n",
    "\n",
    "file = open(\"8627.txt\", 'r')\n",
    "csv_file = open('data.csv' , 'w', encoding='utf-8', newline='')\n",
    "wr = csv.writer(csv_file)\n",
    "dic= {}\n",
    "\n",
    "while True : \n",
    "    line = file.readline()\n",
    "    if line == '\\n':\n",
    "        break\n",
    "    if line != '':\n",
    "        key_parsing = line.split(' ')[0]\n",
    "        \n",
    "        #key parsing\n",
    "        key = key_parsing[0:-1]\n",
    "        #print(key)\n",
    "        \n",
    "        #value parsing\n",
    "        value = line.replace(key_parsing,\"\")\n",
    "        value = value.lstrip()\n",
    "        #print(value)\n",
    "        wr.writerow([key,value])\n",
    "        dic[key] = value\n",
    "        \n",
    "# wr.writerow(dic)        \n",
    "print(dic)\n",
    "\n",
    "file.close()\n",
    "csv_file.close()"
   ]
  },
  {
   "cell_type": "code",
   "execution_count": null,
   "metadata": {},
   "outputs": [],
   "source": []
  },
  {
   "cell_type": "code",
   "execution_count": null,
   "metadata": {},
   "outputs": [],
   "source": []
  }
 ],
 "metadata": {
  "kernelspec": {
   "display_name": "Python 3",
   "language": "python",
   "name": "python3"
  }
 },
 "nbformat": 4,
 "nbformat_minor": 2
}
